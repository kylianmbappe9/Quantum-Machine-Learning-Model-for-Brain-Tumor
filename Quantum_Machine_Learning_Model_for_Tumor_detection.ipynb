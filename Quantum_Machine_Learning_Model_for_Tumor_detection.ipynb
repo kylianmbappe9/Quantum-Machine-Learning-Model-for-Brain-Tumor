{
  "nbformat": 4,
  "nbformat_minor": 0,
  "metadata": {
    "colab": {
      "provenance": [],
      "authorship_tag": "ABX9TyOWKo+dpbSwg+A0DANgVvgk",
      "include_colab_link": true
    },
    "kernelspec": {
      "name": "python3",
      "display_name": "Python 3"
    },
    "language_info": {
      "name": "python"
    }
  },
  "cells": [
    {
      "cell_type": "markdown",
      "metadata": {
        "id": "view-in-github",
        "colab_type": "text"
      },
      "source": [
        "<a href=\"https://colab.research.google.com/github/kylianmbappe9/Quantum-Machine-Learning-Model-for-Brain-Tumor/blob/main/Quantum_Machine_Learning_Model_for_Tumor_detection.ipynb\" target=\"_parent\"><img src=\"https://colab.research.google.com/assets/colab-badge.svg\" alt=\"Open In Colab\"/></a>"
      ]
    },
    {
      "cell_type": "code",
      "execution_count": null,
      "metadata": {
        "id": "c4dxm7Xno76g"
      },
      "outputs": [],
      "source": []
    }
  ]
}